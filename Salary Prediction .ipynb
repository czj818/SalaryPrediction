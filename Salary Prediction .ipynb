{
 "cells": [
  {
   "cell_type": "markdown",
   "metadata": {},
   "source": [
    "## Salary Prediction Model for better compensation strategy"
   ]
  },
  {
   "cell_type": "code",
   "execution_count": 141,
   "metadata": {},
   "outputs": [],
   "source": [
    "import pandas as pd\n",
    "import numpy as np\n",
    "import matplotlib.pyplot as plt\n",
    "from sklearn.linear_model import LogisticRegression\n",
    "from sklearn.ensemble import RandomForestRegressor, GradientBoostingRegressor\n",
    "from sklearn.model_selection import cross_val_score\n",
    "from sklearn.utils import shuffle\n",
    "from sklearn.metrics import mean_squared_error\n",
    "from sklearn.linear_model import LinearRegression\n",
    "from sklearn.pipeline import make_pipeline, Pipeline\n",
    "from sklearn.decomposition import PCA\n",
    "from sklearn.preprocessing import StandardScaler, RobustScaler\n",
    "import category_encoders as encoders\n",
    "from sklearn.impute import SimpleImputer\n",
    "from sklearn.compose import ColumnTransformer\n",
    "import xgboost as xgb\n",
    "import seaborn as sns\n",
    "sns.set_theme(style=\"whitegrid\")"
   ]
  },
  {
   "cell_type": "markdown",
   "metadata": {},
   "source": [
    "## Part I - Load & Clean"
   ]
  },
  {
   "cell_type": "markdown",
   "metadata": {},
   "source": [
    "Here are some functions to boost the efficiency."
   ]
  },
  {
   "cell_type": "code",
   "execution_count": 37,
   "metadata": {},
   "outputs": [],
   "source": [
    "def load_file(path):\n",
    "    return pd.read_csv(path)\n",
    "\n",
    "def merge_data(df1, df2, key = None, left_index = False, right_index = False):\n",
    "    '''inner join the datasets to get the matching records'''\n",
    "    data = pd.merge(left = df1, right = df2, how = 'inner', on = key, left_index = left_index,\n",
    "                    right_index = right_index)\n",
    "    return data\n",
    "\n",
    "def clean_data(raw_df):\n",
    "    '''remove rows that contain salary <= 0 or duplicate job IDs'''\n",
    "    clean_df = raw_df.drop_duplicates(subset='jobId')\n",
    "    clean_df = clean_df[clean_df.salary>0]\n",
    "    return clean_df\n"
   ]
  },
  {
   "cell_type": "code",
   "execution_count": 14,
   "metadata": {},
   "outputs": [],
   "source": [
    "train_feature_file = \"train_features.csv\"\n",
    "train_target_file = \"train_salaries.csv\"\n",
    "test_file = \"test_features.csv\"\n",
    "\n",
    "# define variables\n",
    "cat_cols = [\"companyId\", \"major\", \"industry\"]\n",
    "ord_cols = [\"jobType\", \"degree\"]\n",
    "num_cols = [\"yearsExperience\", \"milesFromMetropolis\"]\n",
    "target = \"salary\"\n",
    "id_col = \"jobId\"\n"
   ]
  },
  {
   "cell_type": "code",
   "execution_count": 52,
   "metadata": {},
   "outputs": [
    {
     "name": "stdout",
     "output_type": "stream",
     "text": [
      "Loading data\n"
     ]
    }
   ],
   "source": [
    "print(\"Loading data\")\n",
    "#Load Data\n",
    "X_train = load_file(train_feature_file)\n",
    "y_train = load_file(train_target_file)\n",
    "X_test = load_file(test_file)\n",
    "\n",
    "#Merge Training Data\n",
    "raw_train = merge_data(X_train, y_train, key = 'jobId')\n",
    "\n",
    "##Clean dataset and shuffle\n",
    "clean_train = shuffle(clean_data(raw_train)).reset_index()\n",
    "\n",
    "train_feature = clean_train.loc[:,clean_train.columns != target]\n",
    "train_feature = train_feature.drop(['index'], axis = 1)\n",
    "target_df = clean_train[target]"
   ]
  },
  {
   "cell_type": "markdown",
   "metadata": {},
   "source": [
    "## Part II - PREPROCESSING"
   ]
  },
  {
   "cell_type": "markdown",
   "metadata": {},
   "source": [
    "### RobustScaler & multi-encoders preprocessor"
   ]
  },
  {
   "cell_type": "code",
   "execution_count": null,
   "metadata": {},
   "outputs": [],
   "source": [
    "##Since the dataset has Job levels and education levels, I chose to use ordinal encoding.\n",
    "def create_ordinal_mappings(ordinals: dict):\n",
    "    \"\"\"Given a dictionary of column name, and ordered list of levels, generates ordering for ordinal encoder.\"\"\"\n",
    "    result_mappings = []\n",
    "\n",
    "    for column, ordering in ordinals.items():\n",
    "        root_dict = {'col': column}\n",
    "        mapping_dict = {None: 0, np.nan: 0}\n",
    "\n",
    "        for j in range(0, len(ordering)):\n",
    "            mapping_dict[ordering[j]] = j + 1\n",
    "\n",
    "        root_dict[\"mapping\"] = mapping_dict\n",
    "        result_mappings.append(root_dict)\n",
    "    return result_mappings\n",
    "\n",
    "def create_pipeline(X_train, num_cols, ord_cols, cat_cols, ordinal_orderings):\n",
    "    numeric_cols = make_pipeline(SimpleImputer(strategy = 'median'), RobustScaler())\n",
    "    ordinal_mapping = create_ordinal_mappings(ordinal_orderings)\n",
    "    ordinal_cols = encoders.OrdinalEncoder(mapping=ordinal_mapping)\n",
    "    categorical_cols = encoders.OneHotEncoder()\n",
    "    \n",
    "    #numeric_cols.fit_transform(X_train)\n",
    "    #ordinal_cols.fit_transform(X_train)\n",
    "    #categorical_cols.fit_transform(X_train)\n",
    "    \n",
    "    transformers = [\n",
    "                ('num', numeric_cols, num_cols),\n",
    "                ('ord', ordinal_cols, ord_cols),\n",
    "                ('cat', categorical_cols, cat_cols)\n",
    "            ]\n",
    "\n",
    "    col_transformer = ColumnTransformer(transformers)\n",
    "    return col_transformer"
   ]
  },
  {
   "cell_type": "code",
   "execution_count": 11,
   "metadata": {},
   "outputs": [],
   "source": [
    "ordinal_orderings = {\n",
    "\"jobType\": [\"JANITOR\", \"JUNIOR\", \"SENIOR\", \"MANAGER\", \"VICE_PRESIDENT\", \"CFO\", \"CTO\", \"CEO\"],\n",
    "\"degree\": [\"NONE\", \"HIGH_SCHOOL\", \"BACHELORS\", \"MASTERS\", \"DOCTORAL\"]}"
   ]
  },
  {
   "cell_type": "code",
   "execution_count": 13,
   "metadata": {},
   "outputs": [],
   "source": [
    "preprocessor = create_pipeline(X_train, num_cols, ord_cols, cat_cols, ordinal_orderings)"
   ]
  },
  {
   "cell_type": "markdown",
   "metadata": {},
   "source": [
    "## Part III - Training models"
   ]
  },
  {
   "cell_type": "markdown",
   "metadata": {},
   "source": [
    "### Training model function"
   ]
  },
  {
   "cell_type": "code",
   "execution_count": null,
   "metadata": {},
   "outputs": [],
   "source": [
    "def train_model(preprocessor,model, feature_df, target_df, num_procs, mean_mse, cv_std):\n",
    "    pipeline = Pipeline(steps=[('preprocessor', preprocessor), ('model', model)])\n",
    "    neg_mse = cross_val_score(pipeline, feature_df, target_df, cv=2, n_jobs=num_procs, scoring='neg_mean_squared_error')\n",
    "    mean_mse[model] = -1.0*np.mean(neg_mse)\n",
    "    cv_std[model] = np.std(neg_mse)\n",
    "\n",
    "def print_summary(model, mean_mse, cv_std):\n",
    "    print('\\nModel:\\n', model)\n",
    "    print('Average MSE:\\n', mean_mse[model])\n",
    "    print('Standard deviation during CV:\\n', cv_std[model])\n"
   ]
  },
  {
   "cell_type": "markdown",
   "metadata": {},
   "source": [
    "### Define our models"
   ]
  },
  {
   "cell_type": "code",
   "execution_count": 21,
   "metadata": {},
   "outputs": [],
   "source": [
    "models = []\n",
    "mean_mse = {}\n",
    "cv_std = {}\n",
    "res = {}\n",
    "\n",
    "#define number of processes to run in parallel\n",
    "num_procs = 2\n",
    "\n",
    "#shared model paramaters\n",
    "verbose_lvl = 0"
   ]
  },
  {
   "cell_type": "code",
   "execution_count": 41,
   "metadata": {},
   "outputs": [
    {
     "name": "stdout",
     "output_type": "stream",
     "text": [
      "Beginning cross validation\n",
      "\n",
      "Model:\n",
      " LinearRegression()\n",
      "Average MSE:\n",
      " 394.4409115630266\n",
      "Standard deviation during CV:\n",
      " 0.8089014986036034\n",
      "\n",
      "Model:\n",
      " Pipeline(steps=[('columntransformer',\n",
      "                 ColumnTransformer(transformers=[('num',\n",
      "                                                  Pipeline(steps=[('simpleimputer',\n",
      "                                                                   SimpleImputer(strategy='median')),\n",
      "                                                                  ('robustscaler',\n",
      "                                                                   RobustScaler())]),\n",
      "                                                  ['yearsExperience',\n",
      "                                                   'milesFromMetropolis']),\n",
      "                                                 ('ord',\n",
      "                                                  OrdinalEncoder(mapping=[{'col': 'jobType',\n",
      "                                                                           'mapping': {None: 0,\n",
      "                                                                                       nan: 0,\n",
      "                                                                                       'CEO': 8,\n",
      "                                                                                       'CFO': 6,\n",
      "                                                                                       'CTO': 7,\n",
      "                                                                                       'JANITOR': 1,\n",
      "                                                                                       'JUNIOR': 2,\n",
      "                                                                                       'MANAGER': 4,\n",
      "                                                                                       'SENIOR': 3,\n",
      "                                                                                       'VICE_PRESIDENT': 5}},\n",
      "                                                                          {'col': 'degree',\n",
      "                                                                           'mapping': {None: 0,\n",
      "                                                                                       nan: 0,\n",
      "                                                                                       'BACHELORS': 3,\n",
      "                                                                                       'DOCTORAL': 5,\n",
      "                                                                                       'HIGH_SCHOOL': 2,\n",
      "                                                                                       'MASTERS': 4,\n",
      "                                                                                       'NONE': 1}}]),\n",
      "                                                  ['jobType', 'degree']),\n",
      "                                                 ('cat', OneHotEncoder(),\n",
      "                                                  ['companyId', 'major',\n",
      "                                                   'industry'])])),\n",
      "                ('pca', PCA()), ('linearregression', LinearRegression())])\n",
      "Average MSE:\n",
      " nan\n",
      "Standard deviation during CV:\n",
      " nan\n",
      "\n",
      "Model:\n",
      " RandomForestRegressor(max_depth=25, max_features=30, min_samples_split=60,\n",
      "                      n_estimators=150, n_jobs=2)\n",
      "Average MSE:\n",
      " 366.85417303008296\n",
      "Standard deviation during CV:\n",
      " 0.7691478790415545\n",
      "\n",
      "Model:\n",
      " GradientBoostingRegressor(max_depth=5, n_estimators=150)\n",
      "Average MSE:\n",
      " 357.15867223252644\n",
      "Standard deviation during CV:\n",
      " 0.9267264022711288\n",
      "\n",
      "Model:\n",
      " LinearRegression()\n",
      "Average MSE:\n",
      " 394.4409115630266\n",
      "Standard deviation during CV:\n",
      " 0.8089014986036034\n",
      "\n",
      "Model:\n",
      " Pipeline(steps=[('columntransformer',\n",
      "                 ColumnTransformer(transformers=[('num',\n",
      "                                                  Pipeline(steps=[('simpleimputer',\n",
      "                                                                   SimpleImputer(strategy='median')),\n",
      "                                                                  ('robustscaler',\n",
      "                                                                   RobustScaler())]),\n",
      "                                                  ['yearsExperience',\n",
      "                                                   'milesFromMetropolis']),\n",
      "                                                 ('ord',\n",
      "                                                  OrdinalEncoder(mapping=[{'col': 'jobType',\n",
      "                                                                           'mapping': {None: 0,\n",
      "                                                                                       nan: 0,\n",
      "                                                                                       'CEO': 8,\n",
      "                                                                                       'CFO': 6,\n",
      "                                                                                       'CTO': 7,\n",
      "                                                                                       'JANITOR': 1,\n",
      "                                                                                       'JUNIOR': 2,\n",
      "                                                                                       'MANAGER': 4,\n",
      "                                                                                       'SENIOR': 3,\n",
      "                                                                                       'VICE_PRESIDENT': 5}},\n",
      "                                                                          {'col': 'degree',\n",
      "                                                                           'mapping': {None: 0,\n",
      "                                                                                       nan: 0,\n",
      "                                                                                       'BACHELORS': 3,\n",
      "                                                                                       'DOCTORAL': 5,\n",
      "                                                                                       'HIGH_SCHOOL': 2,\n",
      "                                                                                       'MASTERS': 4,\n",
      "                                                                                       'NONE': 1}}]),\n",
      "                                                  ['jobType', 'degree']),\n",
      "                                                 ('cat', OneHotEncoder(),\n",
      "                                                  ['companyId', 'major',\n",
      "                                                   'industry'])])),\n",
      "                ('pca', PCA()), ('linearregression', LinearRegression())])\n",
      "Average MSE:\n",
      " nan\n",
      "Standard deviation during CV:\n",
      " nan\n",
      "\n",
      "Model:\n",
      " RandomForestRegressor(max_depth=25, max_features=30, min_samples_split=60,\n",
      "                      n_estimators=150, n_jobs=2)\n",
      "Average MSE:\n",
      " 366.8873805389963\n",
      "Standard deviation during CV:\n",
      " 0.7710073782050131\n",
      "\n",
      "Model:\n",
      " GradientBoostingRegressor(max_depth=5, n_estimators=150)\n",
      "Average MSE:\n",
      " 357.1581450134918\n",
      "Standard deviation during CV:\n",
      " 0.9264355298960254\n",
      "\n",
      "Model:\n",
      " LinearRegression()\n",
      "Average MSE:\n",
      " 394.4409115630266\n",
      "Standard deviation during CV:\n",
      " 0.8089014986036034\n",
      "\n",
      "Model:\n",
      " Pipeline(steps=[('columntransformer',\n",
      "                 ColumnTransformer(transformers=[('num',\n",
      "                                                  Pipeline(steps=[('simpleimputer',\n",
      "                                                                   SimpleImputer(strategy='median')),\n",
      "                                                                  ('robustscaler',\n",
      "                                                                   RobustScaler())]),\n",
      "                                                  ['yearsExperience',\n",
      "                                                   'milesFromMetropolis']),\n",
      "                                                 ('ord',\n",
      "                                                  OrdinalEncoder(mapping=[{'col': 'jobType',\n",
      "                                                                           'mapping': {None: 0,\n",
      "                                                                                       nan: 0,\n",
      "                                                                                       'CEO': 8,\n",
      "                                                                                       'CFO': 6,\n",
      "                                                                                       'CTO': 7,\n",
      "                                                                                       'JANITOR': 1,\n",
      "                                                                                       'JUNIOR': 2,\n",
      "                                                                                       'MANAGER': 4,\n",
      "                                                                                       'SENIOR': 3,\n",
      "                                                                                       'VICE_PRESIDENT': 5}},\n",
      "                                                                          {'col': 'degree',\n",
      "                                                                           'mapping': {None: 0,\n",
      "                                                                                       nan: 0,\n",
      "                                                                                       'BACHELORS': 3,\n",
      "                                                                                       'DOCTORAL': 5,\n",
      "                                                                                       'HIGH_SCHOOL': 2,\n",
      "                                                                                       'MASTERS': 4,\n",
      "                                                                                       'NONE': 1}}]),\n",
      "                                                  ['jobType', 'degree']),\n",
      "                                                 ('cat', OneHotEncoder(),\n",
      "                                                  ['companyId', 'major',\n",
      "                                                   'industry'])])),\n",
      "                ('pca', PCA()), ('linearregression', LinearRegression())])\n",
      "Average MSE:\n",
      " nan\n",
      "Standard deviation during CV:\n",
      " nan\n"
     ]
    },
    {
     "name": "stdout",
     "output_type": "stream",
     "text": [
      "\n",
      "Model:\n",
      " RandomForestRegressor(max_depth=25, max_features=30, min_samples_split=60,\n",
      "                      n_estimators=150, n_jobs=2)\n",
      "Average MSE:\n",
      " 366.79554576519115\n",
      "Standard deviation during CV:\n",
      " 0.6658503663138333\n",
      "\n",
      "Model:\n",
      " GradientBoostingRegressor(max_depth=5, n_estimators=150)\n",
      "Average MSE:\n",
      " 357.15753659655695\n",
      "Standard deviation during CV:\n",
      " 0.9260651578397017\n",
      "\n",
      "Model:\n",
      " LinearRegression()\n",
      "Average MSE:\n",
      " 394.4409115630266\n",
      "Standard deviation during CV:\n",
      " 0.8089014986036034\n",
      "\n",
      "Model:\n",
      " Pipeline(steps=[('columntransformer',\n",
      "                 ColumnTransformer(transformers=[('num',\n",
      "                                                  Pipeline(steps=[('simpleimputer',\n",
      "                                                                   SimpleImputer(strategy='median')),\n",
      "                                                                  ('robustscaler',\n",
      "                                                                   RobustScaler())]),\n",
      "                                                  ['yearsExperience',\n",
      "                                                   'milesFromMetropolis']),\n",
      "                                                 ('ord',\n",
      "                                                  OrdinalEncoder(mapping=[{'col': 'jobType',\n",
      "                                                                           'mapping': {None: 0,\n",
      "                                                                                       nan: 0,\n",
      "                                                                                       'CEO': 8,\n",
      "                                                                                       'CFO': 6,\n",
      "                                                                                       'CTO': 7,\n",
      "                                                                                       'JANITOR': 1,\n",
      "                                                                                       'JUNIOR': 2,\n",
      "                                                                                       'MANAGER': 4,\n",
      "                                                                                       'SENIOR': 3,\n",
      "                                                                                       'VICE_PRESIDENT': 5}},\n",
      "                                                                          {'col': 'degree',\n",
      "                                                                           'mapping': {None: 0,\n",
      "                                                                                       nan: 0,\n",
      "                                                                                       'BACHELORS': 3,\n",
      "                                                                                       'DOCTORAL': 5,\n",
      "                                                                                       'HIGH_SCHOOL': 2,\n",
      "                                                                                       'MASTERS': 4,\n",
      "                                                                                       'NONE': 1}}]),\n",
      "                                                  ['jobType', 'degree']),\n",
      "                                                 ('cat', OneHotEncoder(),\n",
      "                                                  ['companyId', 'major',\n",
      "                                                   'industry'])])),\n",
      "                ('pca', PCA()), ('linearregression', LinearRegression())])\n",
      "Average MSE:\n",
      " nan\n",
      "Standard deviation during CV:\n",
      " nan\n",
      "\n",
      "Model:\n",
      " RandomForestRegressor(max_depth=25, max_features=30, min_samples_split=60,\n",
      "                      n_estimators=150, n_jobs=2)\n",
      "Average MSE:\n",
      " 366.86211593529123\n",
      "Standard deviation during CV:\n",
      " 0.7002186480058867\n",
      "\n",
      "Model:\n",
      " GradientBoostingRegressor(max_depth=5, n_estimators=150)\n",
      "Average MSE:\n",
      " 357.1568249271986\n",
      "Standard deviation during CV:\n",
      " 0.9250291856727983\n",
      "\n",
      "Model:\n",
      " LinearRegression()\n",
      "Average MSE:\n",
      " 394.4409115630266\n",
      "Standard deviation during CV:\n",
      " 0.8089014986036034\n",
      "\n",
      "Model:\n",
      " Pipeline(steps=[('pca', PCA()), ('linearregression', LinearRegression())])\n",
      "Average MSE:\n",
      " 394.44160673202026\n",
      "Standard deviation during CV:\n",
      " 0.8097182471022961\n",
      "\n",
      "Model:\n",
      " RandomForestRegressor(max_depth=25, max_features=30, min_samples_split=60,\n",
      "                      n_estimators=80, n_jobs=2)\n",
      "Average MSE:\n",
      " 367.4060458931891\n",
      "Standard deviation during CV:\n",
      " 0.688214013556518\n",
      "\n",
      "Model:\n",
      " GradientBoostingRegressor(max_depth=5, n_estimators=300)\n",
      "Average MSE:\n",
      " 356.83703082476745\n",
      "Standard deviation during CV:\n",
      " 0.8241854027623106\n",
      "\n",
      "Model:\n",
      " XGBRegressor(colsample_bytree=0.56, learning_rate=0.008, min_child_weight=9,\n",
      "             n_estimators=6619, n_jobs=2, random_state=1, reg_alpha=0.57,\n",
      "             reg_lambda=4.0, subsample=0.56, tree_method='hist')\n",
      "Average MSE:\n",
      " 355.12016088194326\n",
      "Standard deviation during CV:\n",
      " 0.7489390761496679\n"
     ]
    }
   ],
   "source": [
    "# OLS\n",
    "lr = LinearRegression()\n",
    "# PCA then OLS\n",
    "lr_pca = make_pipeline(PCA(), LinearRegression())\n",
    "# Random Forest\n",
    "rf = RandomForestRegressor(n_estimators=80, n_jobs=num_procs, max_depth=25, min_samples_split=60, \\\n",
    "                           max_features=30, verbose=verbose_lvl)\n",
    "# Gradient Boosting\n",
    "gbm = GradientBoostingRegressor(n_estimators=300, max_depth=5, loss='ls', verbose=verbose_lvl)\n",
    "# Xtreme Gradient Boosting\n",
    "xgb = xgb.XGBRegressor(max_depth=3, learning_rate=0.008, n_estimators=6619, min_child_weight=9, colsample_bytree=0.56, subsample=0.56, reg_alpha=0.57, reg_lambda=4.0, tree_method=\"hist\", random_state=1, n_jobs=2)                     \n",
    "\n",
    "\n",
    "models.extend([lr, lr_pca, rf, gbm, xgb])\n",
    "\n",
    "print(\"Beginning cross validation\")\n",
    "# Use CV to find the best model\n",
    "for model in models:\n",
    "    train_model(preprocessor, model, train_feature, target_df, num_procs, mean_mse, cv_std)\n",
    "    print_summary(model, mean_mse, cv_std)"
   ]
  },
  {
   "cell_type": "markdown",
   "metadata": {},
   "source": [
    "## Part VI - Best Model"
   ]
  },
  {
   "cell_type": "markdown",
   "metadata": {},
   "source": [
    "The best model is the XGBOOST model according to the lowest MSE."
   ]
  },
  {
   "cell_type": "code",
   "execution_count": 61,
   "metadata": {},
   "outputs": [
    {
     "name": "stdout",
     "output_type": "stream",
     "text": [
      "\n",
      "Predictions calculated using model with lowest MSE:\n",
      "XGBRegressor(colsample_bytree=0.56, learning_rate=0.008, min_child_weight=9,\n",
      "             n_estimators=6619, n_jobs=2, random_state=1, reg_alpha=0.57,\n",
      "             reg_lambda=4.0, subsample=0.56, tree_method='hist')\n"
     ]
    },
    {
     "name": "stderr",
     "output_type": "stream",
     "text": [
      "/Users/zhijuncai/anaconda3/lib/python3.7/site-packages/xgboost/core.py:587: FutureWarning: Series.base is deprecated and will be removed in a future version\n",
      "  if getattr(data, 'base', None) is not None and \\\n",
      "/Users/zhijuncai/anaconda3/lib/python3.7/site-packages/xgboost/core.py:588: FutureWarning: Series.base is deprecated and will be removed in a future version\n",
      "  data.base is not None and isinstance(data, np.ndarray) \\\n"
     ]
    },
    {
     "name": "stdout",
     "output_type": "stream",
     "text": [
      "[15:11:27] WARNING: src/objective/regression_obj.cu:152: reg:linear is now deprecated in favor of reg:squarederror.\n"
     ]
    }
   ],
   "source": [
    "train_feature = preprocessor.fit_transform(train_feature)\n",
    "model = min(mean_mse, key=mean_mse.get)\n",
    "print('\\nPredictions calculated using model with lowest MSE:')\n",
    "print(model)\n",
    "\n",
    "#train model on entire dataset\n",
    "model.fit(train_feature, target_df)"
   ]
  },
  {
   "cell_type": "markdown",
   "metadata": {},
   "source": [
    "## Part IV - Deployment"
   ]
  },
  {
   "cell_type": "code",
   "execution_count": 42,
   "metadata": {
    "collapsed": true
   },
   "outputs": [
    {
     "data": {
      "text/html": [
       "<div>\n",
       "<style scoped>\n",
       "    .dataframe tbody tr th:only-of-type {\n",
       "        vertical-align: middle;\n",
       "    }\n",
       "\n",
       "    .dataframe tbody tr th {\n",
       "        vertical-align: top;\n",
       "    }\n",
       "\n",
       "    .dataframe thead th {\n",
       "        text-align: right;\n",
       "    }\n",
       "</style>\n",
       "<table border=\"1\" class=\"dataframe\">\n",
       "  <thead>\n",
       "    <tr style=\"text-align: right;\">\n",
       "      <th></th>\n",
       "      <th>jobId</th>\n",
       "      <th>companyId</th>\n",
       "      <th>jobType</th>\n",
       "      <th>degree</th>\n",
       "      <th>major</th>\n",
       "      <th>industry</th>\n",
       "      <th>yearsExperience</th>\n",
       "      <th>milesFromMetropolis</th>\n",
       "    </tr>\n",
       "  </thead>\n",
       "  <tbody>\n",
       "    <tr>\n",
       "      <th>0</th>\n",
       "      <td>JOB1362685407687</td>\n",
       "      <td>COMP33</td>\n",
       "      <td>MANAGER</td>\n",
       "      <td>HIGH_SCHOOL</td>\n",
       "      <td>NONE</td>\n",
       "      <td>HEALTH</td>\n",
       "      <td>22</td>\n",
       "      <td>73</td>\n",
       "    </tr>\n",
       "    <tr>\n",
       "      <th>1</th>\n",
       "      <td>JOB1362685407688</td>\n",
       "      <td>COMP13</td>\n",
       "      <td>JUNIOR</td>\n",
       "      <td>NONE</td>\n",
       "      <td>NONE</td>\n",
       "      <td>AUTO</td>\n",
       "      <td>20</td>\n",
       "      <td>47</td>\n",
       "    </tr>\n",
       "    <tr>\n",
       "      <th>2</th>\n",
       "      <td>JOB1362685407689</td>\n",
       "      <td>COMP10</td>\n",
       "      <td>CTO</td>\n",
       "      <td>MASTERS</td>\n",
       "      <td>BIOLOGY</td>\n",
       "      <td>HEALTH</td>\n",
       "      <td>17</td>\n",
       "      <td>9</td>\n",
       "    </tr>\n",
       "    <tr>\n",
       "      <th>3</th>\n",
       "      <td>JOB1362685407690</td>\n",
       "      <td>COMP21</td>\n",
       "      <td>MANAGER</td>\n",
       "      <td>HIGH_SCHOOL</td>\n",
       "      <td>NONE</td>\n",
       "      <td>OIL</td>\n",
       "      <td>14</td>\n",
       "      <td>96</td>\n",
       "    </tr>\n",
       "    <tr>\n",
       "      <th>4</th>\n",
       "      <td>JOB1362685407691</td>\n",
       "      <td>COMP36</td>\n",
       "      <td>JUNIOR</td>\n",
       "      <td>DOCTORAL</td>\n",
       "      <td>BIOLOGY</td>\n",
       "      <td>OIL</td>\n",
       "      <td>10</td>\n",
       "      <td>44</td>\n",
       "    </tr>\n",
       "  </tbody>\n",
       "</table>\n",
       "</div>"
      ],
      "text/plain": [
       "              jobId companyId  jobType       degree    major industry  \\\n",
       "0  JOB1362685407687    COMP33  MANAGER  HIGH_SCHOOL     NONE   HEALTH   \n",
       "1  JOB1362685407688    COMP13   JUNIOR         NONE     NONE     AUTO   \n",
       "2  JOB1362685407689    COMP10      CTO      MASTERS  BIOLOGY   HEALTH   \n",
       "3  JOB1362685407690    COMP21  MANAGER  HIGH_SCHOOL     NONE      OIL   \n",
       "4  JOB1362685407691    COMP36   JUNIOR     DOCTORAL  BIOLOGY      OIL   \n",
       "\n",
       "   yearsExperience  milesFromMetropolis  \n",
       "0               22                   73  \n",
       "1               20                   47  \n",
       "2               17                    9  \n",
       "3               14                   96  \n",
       "4               10                   44  "
      ]
     },
     "execution_count": 42,
     "metadata": {},
     "output_type": "execute_result"
    }
   ],
   "source": [
    "X_test.head()"
   ]
  },
  {
   "cell_type": "code",
   "execution_count": 55,
   "metadata": {},
   "outputs": [],
   "source": [
    "#Use the same encoding and scaler as the training set\n",
    "test_df = preprocessor.transform(X_test)"
   ]
  },
  {
   "cell_type": "code",
   "execution_count": 62,
   "metadata": {},
   "outputs": [
    {
     "data": {
      "text/plain": [
       "array([112.14029 ,  92.651024, 179.53053 , ...,  55.117752, 162.04657 ,\n",
       "       112.34883 ], dtype=float32)"
      ]
     },
     "execution_count": 62,
     "metadata": {},
     "output_type": "execute_result"
    }
   ],
   "source": [
    "#create predictions based on test data\n",
    "predictions = model.predict(test_df)"
   ]
  },
  {
   "cell_type": "code",
   "execution_count": 69,
   "metadata": {},
   "outputs": [],
   "source": [
    "X_test['salary_predictions'] = predictions\n",
    "result = X_test[['jobId', 'salary_predictions']]"
   ]
  },
  {
   "cell_type": "code",
   "execution_count": 70,
   "metadata": {},
   "outputs": [
    {
     "data": {
      "text/html": [
       "<div>\n",
       "<style scoped>\n",
       "    .dataframe tbody tr th:only-of-type {\n",
       "        vertical-align: middle;\n",
       "    }\n",
       "\n",
       "    .dataframe tbody tr th {\n",
       "        vertical-align: top;\n",
       "    }\n",
       "\n",
       "    .dataframe thead th {\n",
       "        text-align: right;\n",
       "    }\n",
       "</style>\n",
       "<table border=\"1\" class=\"dataframe\">\n",
       "  <thead>\n",
       "    <tr style=\"text-align: right;\">\n",
       "      <th></th>\n",
       "      <th>jobId</th>\n",
       "      <th>salary_predictions</th>\n",
       "    </tr>\n",
       "  </thead>\n",
       "  <tbody>\n",
       "    <tr>\n",
       "      <th>0</th>\n",
       "      <td>JOB1362685407687</td>\n",
       "      <td>112.140289</td>\n",
       "    </tr>\n",
       "    <tr>\n",
       "      <th>1</th>\n",
       "      <td>JOB1362685407688</td>\n",
       "      <td>92.651024</td>\n",
       "    </tr>\n",
       "    <tr>\n",
       "      <th>2</th>\n",
       "      <td>JOB1362685407689</td>\n",
       "      <td>179.530533</td>\n",
       "    </tr>\n",
       "    <tr>\n",
       "      <th>3</th>\n",
       "      <td>JOB1362685407690</td>\n",
       "      <td>103.936646</td>\n",
       "    </tr>\n",
       "    <tr>\n",
       "      <th>4</th>\n",
       "      <td>JOB1362685407691</td>\n",
       "      <td>116.512543</td>\n",
       "    </tr>\n",
       "  </tbody>\n",
       "</table>\n",
       "</div>"
      ],
      "text/plain": [
       "              jobId  salary_predictions\n",
       "0  JOB1362685407687          112.140289\n",
       "1  JOB1362685407688           92.651024\n",
       "2  JOB1362685407689          179.530533\n",
       "3  JOB1362685407690          103.936646\n",
       "4  JOB1362685407691          116.512543"
      ]
     },
     "execution_count": 70,
     "metadata": {},
     "output_type": "execute_result"
    }
   ],
   "source": [
    "result.head()"
   ]
  },
  {
   "cell_type": "markdown",
   "metadata": {},
   "source": [
    "### Plot Feature Importance"
   ]
  },
  {
   "cell_type": "code",
   "execution_count": 144,
   "metadata": {},
   "outputs": [],
   "source": [
    "def plot_feature_importance(importance,names,model_type):\n",
    "\n",
    "    #Create arrays from feature importance and feature names\n",
    "    feature_importance = np.array(importance)\n",
    "    feature_names = np.array(names)\n",
    "\n",
    "    #Create a DataFrame using a Dictionary\n",
    "    data=pd.DataFrame({'feature_names':feature_names,'feature_importance':feature_importance})\n",
    "    data.to_csv('feature_importance.csv')\n",
    "    top5 = data.nlargest(5,'feature_importance')\n",
    "\n",
    "    #Sort the DataFrame in order decreasing feature importance\n",
    "    #top5.sort_values(by=['feature_importance'], ascending=False,inplace=True)\n",
    "\n",
    "    #Define size of bar plot\n",
    "    plt.figure(figsize=(11,8))\n",
    "    pal = sns.color_palette(\"Blues_d\", len(top5))\n",
    "    #Plot Searborn bar chart\n",
    "    sns.barplot(x=top5['feature_importance'], y=top5['feature_names'], palette=np.array(pal[::-1]))\n",
    "    #Add chart labels\n",
    "    plt.title(model_type + ' Top 5 FEATURE IMPORTANCE')\n",
    "    plt.xlabel('FEATURE IMPORTANCE')\n",
    "    plt.ylabel('FEATURE NAMES')"
   ]
  },
  {
   "cell_type": "code",
   "execution_count": 131,
   "metadata": {},
   "outputs": [],
   "source": [
    "imp = model.feature_importances_"
   ]
  },
  {
   "cell_type": "code",
   "execution_count": 106,
   "metadata": {},
   "outputs": [],
   "source": [
    "# Get one hot encoding feature name\n",
    "cat_col_names = preprocessor.transformers_[2][1].get_feature_names()"
   ]
  },
  {
   "cell_type": "code",
   "execution_count": 110,
   "metadata": {},
   "outputs": [],
   "source": [
    "feature_names = num_cols+ord_cols+cat_col_names"
   ]
  },
  {
   "cell_type": "code",
   "execution_count": 145,
   "metadata": {},
   "outputs": [
    {
     "data": {
      "image/png": "[encoded data removed]",
      "text/plain": [
       "<Figure size 792x576 with 1 Axes>"
      ]
     },
     "metadata": {},
     "output_type": "display_data"
    }
   ],
   "source": [
    "plot_feature_importance(imp,feature_names, 'XGBRegressor')"
   ]
  },
  {
   "cell_type": "code",
   "execution_count": 135,
   "metadata": {},
   "outputs": [],
   "source": [
    "def save_results(model, mean_mse, predictions):\n",
    "    with open('best_model.txt', 'w') as file:\n",
    "        file.write(str(model))\n",
    "    np.savetxt('predictions.csv', predictions, delimiter=',')"
   ]
  },
  {
   "cell_type": "code",
   "execution_count": 136,
   "metadata": {},
   "outputs": [],
   "source": [
    "save_results(model, mean_mse, predictions)"
   ]
  },
  {
   "cell_type": "code",
   "execution_count": null,
   "metadata": {},
   "outputs": [],
   "source": []
  }
 ],
 "metadata": {
  "kernelspec": {
   "display_name": "Python 3",
   "language": "python",
   "name": "python3"
  },
  "language_info": {
   "codemirror_mode": {
    "name": "ipython",
    "version": 3
   },
   "file_extension": ".py",
   "mimetype": "text/x-python",
   "name": "python",
   "nbconvert_exporter": "python",
   "pygments_lexer": "ipython3",
   "version": "3.7.3"
  }
 },
 "nbformat": 4,
 "nbformat_minor": 2
}
